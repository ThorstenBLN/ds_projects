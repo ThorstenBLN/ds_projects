{
 "cells": [
  {
   "cell_type": "code",
   "execution_count": 10,
   "metadata": {},
   "outputs": [],
   "source": [
    "import os\n",
    "import re\n",
    "import pandas as pd\n",
    "\n",
    "import requests\n",
    "from bs4 import BeautifulSoup\n",
    "\n",
    "from sklearn.feature_extraction.text import TfidfVectorizer\n",
    "from sklearn.ensemble import RandomForestClassifier\n",
    "from sklearn.pipeline import make_pipeline\n",
    "from sklearn.naive_bayes import MultinomialNB"
   ]
  },
  {
   "cell_type": "markdown",
   "metadata": {},
   "source": [
    "## 1. Download all song lyrics of the artists"
   ]
  },
  {
   "cell_type": "code",
   "execution_count": 11,
   "metadata": {},
   "outputs": [],
   "source": [
    "def create_artist_file(filename, url):    \n",
    "    \"\"\"\n",
    "    get the page of the artist and save the HTML content to a file\n",
    "    \"\"\"\n",
    "    req = requests.get(url)\n",
    "    with open(filename, 'w', encoding='utf-8') as file:\n",
    "        file.write(req.text)"
   ]
  },
  {
   "cell_type": "code",
   "execution_count": 12,
   "metadata": {},
   "outputs": [],
   "source": [
    "def get_songs_list(filename):\n",
    "    \"\"\"\n",
    "    opens the file of an artist and extracts the 1st 400 song links and adds them to a list\n",
    "    returns that list\n",
    "    \"\"\"\n",
    "    # open the artist file\n",
    "    with open(filename, 'r', encoding='utf-8') as file:\n",
    "        text = file.read()\n",
    "    # extract all song links from the file. \n",
    "    pattern = 'href=\"/lyric/([0-9]+.+?)\"'\n",
    "    links_dirty = re.findall(pattern , text)\n",
    "    # add the correct start of each link to the first 400 links and return them in a list\n",
    "    return ['https://www.lyrics.com/lyric/' + text for text in links_dirty[:400]]"
   ]
  },
  {
   "cell_type": "code",
   "execution_count": 13,
   "metadata": {},
   "outputs": [],
   "source": [
    "def create_directory(root_dir, artist):\n",
    "    \"\"\"\n",
    "    creates a directory with the artist name in the root directory, if the directory doesn't yet exists\n",
    "    \"\"\"\n",
    "    directory = f\"{root_dir}{artist}/\"\n",
    "    if not os.path.exists(directory):\n",
    "        os.makedirs(directory)\n",
    "    return directory"
   ]
  },
  {
   "cell_type": "code",
   "execution_count": 14,
   "metadata": {},
   "outputs": [],
   "source": [
    "def get_song_text(links, directory, artist):\n",
    "    \"\"\"\n",
    "    opens the links from the argument list and browses the page for title and lyrics.\n",
    "    saves each song in a file with a cleaned title with the lyrics as content\n",
    "    jumps over songs for which a file has already been created (criteria: title of the song)\n",
    "    \"\"\"\n",
    "    songs_included = set()\n",
    "    counter = 0\n",
    "    for url in links:\n",
    "        # get the content of the URL\n",
    "        req_song_html = requests.get(url=url).text \n",
    "        song_soup = BeautifulSoup(markup=req_song_html, features='html.parser')\n",
    "        # get the title and lyrics\n",
    "        title = song_soup.find(name='h1', attrs={'class':'lyric-title'})\n",
    "        lyrics = song_soup.find(name='pre', attrs={'class':'lyric-body'})\n",
    "        # if title or lyrics are None just continue with next url.\n",
    "        # else save file with lyrics into the artist's folder\n",
    "        if title is not None and lyrics is not None:\n",
    "            title = title.text.replace('/', '_')\n",
    "            title = title.lower()\n",
    "            lyrics = lyrics.text\n",
    "            # check if song has already been downloaded. if not create a file\n",
    "            if f\"{artist}{title}\" not in songs_included:\n",
    "                # add song to the song set (for duplicate checking)\n",
    "                songs_included.add(f\"{artist}{title}\")        \n",
    "                # write lyrics to file\n",
    "                filename = f\"{artist}_{counter}_{title}.txt\"\n",
    "                with open(os.path.join(directory, filename), 'w') as file:\n",
    "                    file.write(lyrics)\n",
    "                counter += 1"
   ]
  },
  {
   "cell_type": "code",
   "execution_count": 15,
   "metadata": {},
   "outputs": [],
   "source": [
    "def get_lyrics_list(root_dir, artist_list):\n",
    "    \"\"\"\n",
    "    returns 2D list: 1. Column: lyrics 2. Column: artist\n",
    "    iterates over the files in each artist folder to extract the lyrics\n",
    "    \"\"\"\n",
    "    master_list = []\n",
    "    for artist in artist_list:\n",
    "        for file_name in os.listdir(f\"{root_dir}{artist}\"):\n",
    "            text = open(f\"{root_dir}{artist}/{file_name}\").read()\n",
    "            # replacing \\n in the text with whitespace\n",
    "            text = text.replace('\\n', ' ')\n",
    "            text = text.lower()\n",
    "            master_list.append([text, artist])\n",
    "    return master_list\n"
   ]
  },
  {
   "cell_type": "code",
   "execution_count": 16,
   "metadata": {},
   "outputs": [],
   "source": [
    "def create_dataframe(data):\n",
    "    \"\"\"\n",
    "    creates a Dataframe out of 2D-list with 1. column: lyrics, 2nd column: artist and returns it\n",
    "    \"\"\"\n",
    "    return pd.DataFrame(data, columns=['lyrics_X', 'artist_y'])\n",
    "    "
   ]
  },
  {
   "cell_type": "code",
   "execution_count": 20,
   "metadata": {},
   "outputs": [],
   "source": [
    "def create_tfidf_vectorizer(df_text):\n",
    "    '''returns the matrix with tfidf values and the vectorizer itself'''\n",
    "    tv = TfidfVectorizer(stop_words='english', ngram_range=(1,1))\n",
    "    vectorized_tfidf = tv.fit_transform(df_text['lyrics_X'])\n",
    "    return vectorized_tfidf, tv"
   ]
  },
  {
   "cell_type": "markdown",
   "metadata": {},
   "source": [
    "## 2. Create all song files"
   ]
  },
  {
   "cell_type": "code",
   "execution_count": 18,
   "metadata": {},
   "outputs": [],
   "source": [
    "# get all lyrics in seperate files\n",
    "# main url list for the 7 artists\n",
    "URL = [ 'https://www.lyrics.com/artist/Johnny-Cash/1548',\n",
    "        'https://www.lyrics.com/artist/Madonna/64565',\n",
    "        'https://www.lyrics.com/artist/Eminem/347307',\n",
    "        'https://www.lyrics.com/artist/Amy-Winehouse/612371',\n",
    "        'https://www.lyrics.com/artist/The-Kooks/762797',\n",
    "        'https://www.lyrics.com/artist/Frank-Sinatra/3150',\n",
    "         'https://www.lyrics.com/artist/Bob-Marley/2907'] * True\n",
    "\n",
    "# directory where to save the files\n",
    "root_dir = '../data/songs3/'\n",
    "for url in URL:\n",
    "    # extract the artist name from the url-string\n",
    "    pattern = 'st\\/(.*)\\/'\n",
    "    artist = str(re.findall(pattern, url)[0]).replace('-','_')\n",
    "    # create a file per artist with the content of the url\n",
    "    filename = f\"{artist}.txt\"\n",
    "    create_artist_file(filename, url)\n",
    "    # create a list with the first 400 links from the artist file\n",
    "    link_list = get_songs_list(filename)\n",
    "    # create files containing the lyrics for each song of the artist\n",
    "    directory = create_directory(root_dir, artist)\n",
    "    get_song_text(link_list, directory, artist)\n"
   ]
  },
  {
   "cell_type": "markdown",
   "metadata": {},
   "source": [
    "## 3. Build models to predict the artist\n",
    "(NOT NEEDED ANYMORE SEE FILE 4_5_lyrics_pipeline.ipnyb)"
   ]
  },
  {
   "cell_type": "code",
   "execution_count": 21,
   "metadata": {},
   "outputs": [
    {
     "data": {
      "text/html": [
       "<div>\n",
       "<style scoped>\n",
       "    .dataframe tbody tr th:only-of-type {\n",
       "        vertical-align: middle;\n",
       "    }\n",
       "\n",
       "    .dataframe tbody tr th {\n",
       "        vertical-align: top;\n",
       "    }\n",
       "\n",
       "    .dataframe thead th {\n",
       "        text-align: right;\n",
       "    }\n",
       "</style>\n",
       "<table border=\"1\" class=\"dataframe\">\n",
       "  <thead>\n",
       "    <tr style=\"text-align: right;\">\n",
       "      <th></th>\n",
       "      <th>lyrics_X</th>\n",
       "      <th>artist_y</th>\n",
       "    </tr>\n",
       "  </thead>\n",
       "  <tbody>\n",
       "    <tr>\n",
       "      <th>0</th>\n",
       "      <td>(dre) oh, so i'm out the game, huh (eminem) yo...</td>\n",
       "      <td>Eminem</td>\n",
       "    </tr>\n",
       "    <tr>\n",
       "      <th>1</th>\n",
       "      <td>i can feel the heat rising everything is on fi...</td>\n",
       "      <td>Eminem</td>\n",
       "    </tr>\n",
       "    <tr>\n",
       "      <th>2</th>\n",
       "      <td>i roll over and go to reach for you, you're go...</td>\n",
       "      <td>Eminem</td>\n",
       "    </tr>\n",
       "    <tr>\n",
       "      <th>3</th>\n",
       "      <td>you sit there stone-faced, as if i'm not here ...</td>\n",
       "      <td>Eminem</td>\n",
       "    </tr>\n",
       "    <tr>\n",
       "      <th>4</th>\n",
       "      <td>'cause sometimes you just feel tired, you feel...</td>\n",
       "      <td>Eminem</td>\n",
       "    </tr>\n",
       "    <tr>\n",
       "      <th>...</th>\n",
       "      <td>...</td>\n",
       "      <td>...</td>\n",
       "    </tr>\n",
       "    <tr>\n",
       "      <th>1147</th>\n",
       "      <td>how i love the kisses of dolores aye-aye-aye d...</td>\n",
       "      <td>Frank_Sinatra</td>\n",
       "    </tr>\n",
       "    <tr>\n",
       "      <th>1148</th>\n",
       "      <td>adeste fidelis  laeti triumphantes venite, ven...</td>\n",
       "      <td>Frank_Sinatra</td>\n",
       "    </tr>\n",
       "    <tr>\n",
       "      <th>1149</th>\n",
       "      <td>(they've got an awful lot of coffe down in bra...</td>\n",
       "      <td>Frank_Sinatra</td>\n",
       "    </tr>\n",
       "    <tr>\n",
       "      <th>1150</th>\n",
       "      <td>everybody's going out and having fun  i'm just...</td>\n",
       "      <td>Frank_Sinatra</td>\n",
       "    </tr>\n",
       "    <tr>\n",
       "      <th>1151</th>\n",
       "      <td>here we are two very bewilder'd people here we...</td>\n",
       "      <td>Frank_Sinatra</td>\n",
       "    </tr>\n",
       "  </tbody>\n",
       "</table>\n",
       "<p>1152 rows × 2 columns</p>\n",
       "</div>"
      ],
      "text/plain": [
       "                                               lyrics_X       artist_y\n",
       "0     (dre) oh, so i'm out the game, huh (eminem) yo...         Eminem\n",
       "1     i can feel the heat rising everything is on fi...         Eminem\n",
       "2     i roll over and go to reach for you, you're go...         Eminem\n",
       "3     you sit there stone-faced, as if i'm not here ...         Eminem\n",
       "4     'cause sometimes you just feel tired, you feel...         Eminem\n",
       "...                                                 ...            ...\n",
       "1147  how i love the kisses of dolores aye-aye-aye d...  Frank_Sinatra\n",
       "1148  adeste fidelis  laeti triumphantes venite, ven...  Frank_Sinatra\n",
       "1149  (they've got an awful lot of coffe down in bra...  Frank_Sinatra\n",
       "1150  everybody's going out and having fun  i'm just...  Frank_Sinatra\n",
       "1151  here we are two very bewilder'd people here we...  Frank_Sinatra\n",
       "\n",
       "[1152 rows x 2 columns]"
      ]
     },
     "execution_count": 21,
     "metadata": {},
     "output_type": "execute_result"
    }
   ],
   "source": [
    "# get all directory-names (artist-names)\n",
    "artist_list = os.listdir(root_dir)\n",
    "# get a 2D list. axis 1: list with Lyrics & artist for each song. axis 0: all songs of all artists\n",
    "artist_lyrics_list = get_lyrics_list(root_dir, artist_list)\n",
    "df_text = create_dataframe(artist_lyrics_list)\n",
    "# instantiate and apply tfidf-vectorizer on the lyrics data\n",
    "vectorized_tfidf, tv = create_tfidf_vectorizer(df_text)\n",
    "# create the target labels\n",
    "labels = df_text['artist_y']\n",
    "df_text.head(5)"
   ]
  },
  {
   "cell_type": "code",
   "execution_count": 22,
   "metadata": {},
   "outputs": [
    {
     "name": "stdout",
     "output_type": "stream",
     "text": [
      "0.9331597222222222\n"
     ]
    }
   ],
   "source": [
    "# Train the random forest classifier\n",
    "mod_RFC = RandomForestClassifier(max_depth=20)\n",
    "mod_RFC.fit(vectorized_tfidf, labels)\n",
    "print(mod_RFC.score(vectorized_tfidf, labels))"
   ]
  },
  {
   "cell_type": "code",
   "execution_count": 23,
   "metadata": {},
   "outputs": [
    {
     "name": "stdout",
     "output_type": "stream",
     "text": [
      "0.8645833333333334\n"
     ]
    }
   ],
   "source": [
    "# Train the Naive Bayes Classifier\n",
    "mod_NB = MultinomialNB()\n",
    "mod_NB.fit(vectorized_tfidf, labels)\n",
    "print(mod_NB.score(vectorized_tfidf, labels))"
   ]
  },
  {
   "cell_type": "markdown",
   "metadata": {},
   "source": [
    "## 4. Test the models with lyrics"
   ]
  },
  {
   "cell_type": "code",
   "execution_count": 24,
   "metadata": {},
   "outputs": [
    {
     "name": "stdout",
     "output_type": "stream",
     "text": [
      "RFC - classes: ['Amy_Winehouse' 'Bob_Marley' 'Eminem' 'Frank_Sinatra' 'Johnny_Cash'\n",
      " 'Madonna' 'The_Kooks']\n",
      "RFC - predictions: ['Frank_Sinatra' 'Frank_Sinatra' 'Frank_Sinatra' 'Frank_Sinatra']\n",
      "RFC: [[0.07364347 0.12305967 0.01462897 0.28630232 0.18965349 0.12524678\n",
      "  0.1874653 ]\n",
      " [0.07801903 0.16659704 0.03173424 0.22267863 0.19489304 0.15567087\n",
      "  0.15040716]\n",
      " [0.08048353 0.10014176 0.0259184  0.27945081 0.19828176 0.14772064\n",
      "  0.16800309]\n",
      " [0.08051944 0.11097858 0.01757613 0.3260986  0.22780244 0.13220462\n",
      "  0.10482018]]\n",
      "NB - classes: ['Amy_Winehouse' 'Bob_Marley' 'Eminem' 'Frank_Sinatra' 'Johnny_Cash'\n",
      " 'Madonna' 'The_Kooks']\n",
      "NB - predictions: ['The_Kooks' 'Madonna' 'Madonna' 'Johnny_Cash']\n",
      "NB: [[0.08637549 0.05641348 0.09540077 0.18140543 0.1533026  0.14658999\n",
      "  0.28051223]\n",
      " [0.10755523 0.19503093 0.12555465 0.14680958 0.12956719 0.21485101\n",
      "  0.08063142]\n",
      " [0.06871083 0.06896274 0.09881563 0.1189619  0.11377432 0.42974993\n",
      "  0.10102465]\n",
      " [0.09375014 0.07040193 0.1440173  0.16749266 0.29885313 0.15332033\n",
      "  0.07216452]]\n"
     ]
    }
   ],
   "source": [
    "# create Testdata\n",
    "corpus_test = [['oh, and your sweet and pretty face in such an ugly way something so beautiful', 'x'], \n",
    "                ['this is my invitation i got the special vacation i need your concentration just to feel your vibration At that soul shakedown party tonight we gonna have a soul shakedown party tonight!', 'x'],\n",
    "                ['you know that we are living in a material world and i am a material girl', 'x'],\n",
    "                ['I fell into a burning ring of fire I went down down down the flames they went higher and it burns burns burns', 'x']]\n",
    "df_test = create_dataframe(corpus_test)\n",
    "# transform the lyrics into a tfidf-vector\n",
    "vec_test = tv.transform(df_test['lyrics_X'])\n",
    "# print the prediction result\n",
    "print(f\"RFC - classes: {mod_RFC.classes_}\")\n",
    "print(f\"RFC - predictions: {mod_RFC.predict(vec_test)}\")\n",
    "print(f\"RFC: {mod_RFC.predict_proba(vec_test)}\")\n",
    "print(f\"NB - classes: {mod_NB.classes_}\")\n",
    "print(f\"NB - predictions: {mod_NB.predict(vec_test)}\")\n",
    "print(f\"NB: {mod_NB.predict_proba(vec_test)}\")"
   ]
  }
 ],
 "metadata": {
  "kernelspec": {
   "display_name": "Python 3.9.12 ('base')",
   "language": "python",
   "name": "python3"
  },
  "language_info": {
   "codemirror_mode": {
    "name": "ipython",
    "version": 3
   },
   "file_extension": ".py",
   "mimetype": "text/x-python",
   "name": "python",
   "nbconvert_exporter": "python",
   "pygments_lexer": "ipython3",
   "version": "3.9.12"
  },
  "orig_nbformat": 4,
  "vscode": {
   "interpreter": {
    "hash": "d01013faa6268d9b541af39e21e51ae91e81e71b63bd76f73433c553979f7595"
   }
  }
 },
 "nbformat": 4,
 "nbformat_minor": 2
}
