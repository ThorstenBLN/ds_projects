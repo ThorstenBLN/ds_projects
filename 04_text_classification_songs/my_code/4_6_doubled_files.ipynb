{
 "cells": [
  {
   "cell_type": "code",
   "execution_count": 11,
   "metadata": {},
   "outputs": [],
   "source": [
    "import re\n",
    "import os"
   ]
  },
  {
   "cell_type": "code",
   "execution_count": 12,
   "metadata": {},
   "outputs": [],
   "source": [
    "def get_doubled_files(root_dir, artist_list):\n",
    "    '''iterates over all artist folders and all files.\n",
    "    creates a clear title of the file (no appendix, e.g. [live])\n",
    "    adds all clear title to a set on it's 1st appearance\n",
    "    if clear title appears again, adds it to doubled'''\n",
    "    doubled = []\n",
    "    pattern = '[0-9]_([\\w\\s\\'\\.]+)\\W'\n",
    "    for artist in artist_list:\n",
    "        songs = set()\n",
    "        for file_name in os.listdir(f\"{root_dir}{artist}\"):\n",
    "            clear_title = re.search(pattern, file_name)\n",
    "            # print(file_name)\n",
    "            if clear_title is not None:\n",
    "                clear_title = clear_title.group(1)\n",
    "                # print(clear_title)\n",
    "                if clear_title not in songs:\n",
    "                    songs.add(clear_title)\n",
    "                else:\n",
    "                    doubled.append(f\"{root_dir}{artist}/{file_name}\")\n",
    "    return doubled"
   ]
  },
  {
   "cell_type": "code",
   "execution_count": 13,
   "metadata": {},
   "outputs": [],
   "source": [
    "def delete_duplicates(duplicates):\n",
    "    '''removes all the duplicates'''\n",
    "    for file in duplicates:\n",
    "        print(file)\n",
    "        os.remove(file)"
   ]
  },
  {
   "cell_type": "code",
   "execution_count": 14,
   "metadata": {},
   "outputs": [
    {
     "name": "stdout",
     "output_type": "stream",
     "text": [
      "{'Eminem': 161, 'The_Kooks': 102, 'Madonna': 160, 'Bob_Marley': 130, 'Amy_Winehouse': 91, 'Johnny_Cash': 199, 'Frank_Sinatra': 218}\n"
     ]
    }
   ],
   "source": [
    "# Main: get duplicates of songs (e.g. live versions) and remove them\n",
    "root_dir = '../data/songs3/'\n",
    "artist_list = os.listdir(root_dir)\n",
    "# get a list with duplicates of songs\n",
    "doubled = get_doubled_files(root_dir, artist_list)\n",
    "# deletes all duplicates if exist\n",
    "if len(doubled) > 0: \n",
    "    delete_duplicates(doubled)\n",
    "# print the remaining songs of each artist\n",
    "total_files = {artist: len(os.listdir(f\"{root_dir}{artist}\")) for artist in artist_list}\n",
    "print(total_files)"
   ]
  }
 ],
 "metadata": {
  "kernelspec": {
   "display_name": "Python 3.9.12 ('base')",
   "language": "python",
   "name": "python3"
  },
  "language_info": {
   "codemirror_mode": {
    "name": "ipython",
    "version": 3
   },
   "file_extension": ".py",
   "mimetype": "text/x-python",
   "name": "python",
   "nbconvert_exporter": "python",
   "pygments_lexer": "ipython3",
   "version": "3.9.12"
  },
  "orig_nbformat": 4,
  "vscode": {
   "interpreter": {
    "hash": "d01013faa6268d9b541af39e21e51ae91e81e71b63bd76f73433c553979f7595"
   }
  }
 },
 "nbformat": 4,
 "nbformat_minor": 2
}
